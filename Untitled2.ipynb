{
  "nbformat": 4,
  "nbformat_minor": 0,
  "metadata": {
    "colab": {
      "provenance": [],
      "toc_visible": true,
      "authorship_tag": "ABX9TyN5hsp9aTzhQbMh4xSvLUfr",
      "include_colab_link": true
    },
    "kernelspec": {
      "name": "python3",
      "display_name": "Python 3"
    },
    "language_info": {
      "name": "python"
    }
  },
  "cells": [
    {
      "cell_type": "markdown",
      "metadata": {
        "id": "view-in-github",
        "colab_type": "text"
      },
      "source": [
        "<a href=\"https://colab.research.google.com/github/MajidAkh/ComputerVision/blob/master/Untitled2.ipynb\" target=\"_parent\"><img src=\"https://colab.research.google.com/assets/colab-badge.svg\" alt=\"Open In Colab\"/></a>"
      ]
    },
    {
      "cell_type": "code",
      "execution_count": 1,
      "metadata": {
        "colab": {
          "base_uri": "https://localhost:8080/"
        },
        "id": "TkB9_vtc4TZT",
        "outputId": "c55c904e-a97a-49c6-d3e6-e78d75486a99"
      },
      "outputs": [
        {
          "output_type": "stream",
          "name": "stdout",
          "text": [
            "--2024-02-08 08:42:05--  https://huggingface.co/TheBloke/Mistral-7B-Instruct-v0.1-GGUF/resolve/main/mistral-7b-instruct-v0.1.Q4_K_M.gguf\n",
            "Resolving huggingface.co (huggingface.co)... 65.8.178.27, 65.8.178.118, 65.8.178.12, ...\n",
            "Connecting to huggingface.co (huggingface.co)|65.8.178.27|:443... connected.\n",
            "HTTP request sent, awaiting response... 302 Found\n",
            "Location: https://cdn-lfs.huggingface.co/repos/46/12/46124cd8d4788fd8e0879883abfc473f247664b987955cc98a08658f7df6b826/14466f9d658bf4a79f96c3f3f22759707c291cac4e62fea625e80c7d32169991?response-content-disposition=attachment%3B+filename*%3DUTF-8%27%27mistral-7b-instruct-v0.1.Q4_K_M.gguf%3B+filename%3D%22mistral-7b-instruct-v0.1.Q4_K_M.gguf%22%3B&Expires=1707640925&Policy=eyJTdGF0ZW1lbnQiOlt7IkNvbmRpdGlvbiI6eyJEYXRlTGVzc1RoYW4iOnsiQVdTOkVwb2NoVGltZSI6MTcwNzY0MDkyNX19LCJSZXNvdXJjZSI6Imh0dHBzOi8vY2RuLWxmcy5odWdnaW5nZmFjZS5jby9yZXBvcy80Ni8xMi80NjEyNGNkOGQ0Nzg4ZmQ4ZTA4Nzk4ODNhYmZjNDczZjI0NzY2NGI5ODc5NTVjYzk4YTA4NjU4ZjdkZjZiODI2LzE0NDY2ZjlkNjU4YmY0YTc5Zjk2YzNmM2YyMjc1OTcwN2MyOTFjYWM0ZTYyZmVhNjI1ZTgwYzdkMzIxNjk5OTE%7EcmVzcG9uc2UtY29udGVudC1kaXNwb3NpdGlvbj0qIn1dfQ__&Signature=MhE593m3cCEbsKw95tKJwh%7E8ue6H3h8RlctaBoz%7ELHPYQkFmBBHcM3qMtwsN%7El-MAFDj3rGwPiToiEcF5nsXjhJsSptat56N45Mdiy37eLpv8jow2edAMRTGvYEyReZUMO%7ElggkEA52SjC1EuEZp22wRL9kZckX-pghkQ485Jb3ZRVKEDSsIFft2vBMBxmC2iZw89BiMVyPJ%7EqhljcizLEyjd8PIoFj5axG4TN4NjNL-uHeEzuPsy7xgO5oJeMdZhGRQHZpbhOgQIbtRNEm0cJf6ZB3iHA-f0tRnkUxbSTPgpLdnz%7EZ9t6MwWh2KxqIHthOe-buJT7NSWOw6o9kBwA__&Key-Pair-Id=KVTP0A1DKRTAX [following]\n",
            "--2024-02-08 08:42:05--  https://cdn-lfs.huggingface.co/repos/46/12/46124cd8d4788fd8e0879883abfc473f247664b987955cc98a08658f7df6b826/14466f9d658bf4a79f96c3f3f22759707c291cac4e62fea625e80c7d32169991?response-content-disposition=attachment%3B+filename*%3DUTF-8%27%27mistral-7b-instruct-v0.1.Q4_K_M.gguf%3B+filename%3D%22mistral-7b-instruct-v0.1.Q4_K_M.gguf%22%3B&Expires=1707640925&Policy=eyJTdGF0ZW1lbnQiOlt7IkNvbmRpdGlvbiI6eyJEYXRlTGVzc1RoYW4iOnsiQVdTOkVwb2NoVGltZSI6MTcwNzY0MDkyNX19LCJSZXNvdXJjZSI6Imh0dHBzOi8vY2RuLWxmcy5odWdnaW5nZmFjZS5jby9yZXBvcy80Ni8xMi80NjEyNGNkOGQ0Nzg4ZmQ4ZTA4Nzk4ODNhYmZjNDczZjI0NzY2NGI5ODc5NTVjYzk4YTA4NjU4ZjdkZjZiODI2LzE0NDY2ZjlkNjU4YmY0YTc5Zjk2YzNmM2YyMjc1OTcwN2MyOTFjYWM0ZTYyZmVhNjI1ZTgwYzdkMzIxNjk5OTE%7EcmVzcG9uc2UtY29udGVudC1kaXNwb3NpdGlvbj0qIn1dfQ__&Signature=MhE593m3cCEbsKw95tKJwh%7E8ue6H3h8RlctaBoz%7ELHPYQkFmBBHcM3qMtwsN%7El-MAFDj3rGwPiToiEcF5nsXjhJsSptat56N45Mdiy37eLpv8jow2edAMRTGvYEyReZUMO%7ElggkEA52SjC1EuEZp22wRL9kZckX-pghkQ485Jb3ZRVKEDSsIFft2vBMBxmC2iZw89BiMVyPJ%7EqhljcizLEyjd8PIoFj5axG4TN4NjNL-uHeEzuPsy7xgO5oJeMdZhGRQHZpbhOgQIbtRNEm0cJf6ZB3iHA-f0tRnkUxbSTPgpLdnz%7EZ9t6MwWh2KxqIHthOe-buJT7NSWOw6o9kBwA__&Key-Pair-Id=KVTP0A1DKRTAX\n",
            "Resolving cdn-lfs.huggingface.co (cdn-lfs.huggingface.co)... 108.157.162.99, 108.157.162.27, 108.157.162.95, ...\n",
            "Connecting to cdn-lfs.huggingface.co (cdn-lfs.huggingface.co)|108.157.162.99|:443... connected.\n",
            "HTTP request sent, awaiting response... 200 OK\n",
            "Length: 4368438944 (4.1G) [binary/octet-stream]\n",
            "Saving to: ‘mistral-7b-instruct-v0.1.Q4_K_M.gguf’\n",
            "\n",
            "mistral-7b-instruct 100%[===================>]   4.07G  90.7MB/s    in 38s     \n",
            "\n",
            "2024-02-08 08:42:43 (109 MB/s) - ‘mistral-7b-instruct-v0.1.Q4_K_M.gguf’ saved [4368438944/4368438944]\n",
            "\n"
          ]
        }
      ],
      "source": [
        "!wget https://huggingface.co/TheBloke/Mistral-7B-Instruct-v0.1-GGUF/resolve/main/mistral-7b-instruct-v0.1.Q4_K_M.gguf"
      ]
    },
    {
      "cell_type": "code",
      "source": [
        "%%capture\n",
        "!pip install ctransformers>=0.2.27"
      ],
      "metadata": {
        "id": "T1WkfR2w4mBh"
      },
      "execution_count": 2,
      "outputs": []
    },
    {
      "cell_type": "code",
      "source": [
        "from ctransformers import AutoModelForCausalLM, AutoConfig, Config\n",
        "conf = AutoConfig(Config(temperature=0.8, repetition_penalty=1.1,\n",
        "                         batch_size=52, max_new_tokens=1024,\n",
        "                         context_length=10000))\n",
        "llm = AutoModelForCausalLM.from_pretrained(\"/content/mistral-7b-instruct-v0.1.Q4_K_M.gguf\",\n",
        "                                           model_type=\"mistral\", config = conf)"
      ],
      "metadata": {
        "id": "pYXHV0Rp4p7r"
      },
      "execution_count": null,
      "outputs": []
    },
    {
      "cell_type": "code",
      "source": [
        "mistral_prompt = f\"\"\"<s>[INST] Tu es un assistant service client. Ton rôle est de reformuler ou de corriger des messages d’ouverture d’incident. Tu dois communiquer en langage formel. Garde-toi de reformuler la question. Si le texte contient des sigles, utilise la référence des sigles dans ta reformulation.\n",
        "Si la majorité du texte d'origine est en Français, répond en Français.\n",
        "Si la majorité du texte d'origine est en Anglais, répond en Anglais.\n",
        "Si tu trouves le sigle '(Anglais)' ou '(English)' ou '(EN)' à la fin du texte d'origine, répond en Anglais dans tous les cas.\n",
        "Si tu trouves le sigle '(Francais)' ou '(French)' ou '(FR)' à la fin du texte d'origine, répond en Français dans tous les cas.\n",
        "\n",
        "Voici des précisions sur ce qu'est une ouverture d'incident :\n",
        "on informe le client du début d’un incident impactant son service. Selon les infos que l’on possède déjà à ce stade de l’incident, on peut l’avertir des actions à venir (intervention de l'équipe support, déclenchement d'une intervention sur le terrain). Si l’on sait qu’il s’agit d’un défaut d’origine client, on peut lui demander de contrôler son signal au départ du studio ou de contrôler ses équipements.\n",
        "\n",
        "Voici la référence des sigles :\n",
        "{{''5G'': ''Cinquième génération'', ''5S'': ''Supprimer, situer, soigner, standardiser, suivre'', ''A3'': ''Format de feuille papier 29,7 cm x 42 cm'', ''AAE'': ''Avoir A Emettre'', ''ABF'': ''Architecte des Bâtiments de France'', ''ABR '': ''Adaptive Bit Rate'', ''AC'': ''Accord Cadre'', ''ACM'': ''Adéquation Charges Moyens'', ''ACROPOL'': ''Automatisation des Communications Radio Opérationnelles de la POLice'', ''ADP'': ''Accord De Principe'', ''ADSL '': ''Asymmetric Digital Subscriber Line '', ''ADV'': ''Administration Des Ventes'', ''AE'': ''Atelier énergie'', ''AF'': ''Audio Fréquence'', ''AFAQ'': ''Association Française pour l''Assurance Qualité'', ''AFNOR '': ''Association Française de Normalisation'', ''AGCP'': ''Appareil Général de Commande de Protection'', ''AM '': ''Amplitude Modulation'', ''AMCA'': nan, ''AMF'': ''Association des Maires de France'', ''AMII'': ''Appel à Manifestation d’Intention d’Investissement'', ''AMOA'': ''Assistant à Maîtrise d''Ouvrage'', ''AMOE'': ''Assistance à Maîtrise d''Œuvre'', ''ANFR'': ''Agence Nationale des Fréquences'', ''ANO'': ''Avis de Non Opposition '', ''AO'': ''Appel d''Offres'', ''AOT'': ''Autorisation d''Occupation du domaine temporaire'', ''AP '': ''Avant projet'', ''APD'': ''Avant Projet Détaillé'', ''APS'': ''Avant Projet Simplifié'', ''AR'': ''Analyse des Risques'', ''ARCOM'': ''Autorité de régulation de la communication audiovisuelle et numérique'', ''ASI'': ''Asynchronous Serial Interface '', ''AU'': ''Autorisation d''Urbanisme'', ''AV'': ''Avant vente'', ''BAES'': ''Bloc autonome d''éclairage de sécurité'', ''BDC '': ''Bon de Commande'', ''BDD'': ''Base De Données'', ''BE'': ''Bureau d''Etudes'', ''BF'': ''Basse Fréquence'', ''BH'': ''Base horaire'', ''BLO'': ''Boucle Locale Optique'', ''BO'': ''Business Object'', ''BOQ'': ''Bill Of Quantities'', ''BP'': ''Business Plan'', ''BPC'': ''Bon du Premier Coup'', ''BPU'': ''Bordereau des prix unitaires'', ''BRH'': ''Brise-roche hydraulique'', ''BT'': ''Bon de travail'', ''BTS'': ''Base Transceiver Station'', ''BU'': ''Business Unit'', ''BUA'': ''Business Unit AudioVisuel'', ''BUF'': ''Business Unit Fibre'', ''BUT'': ''Business Unit TowerCo'', ''BYTEL'': ''Bouygues Télécom'', ''CA'': ''Chiffre d''affaires'', ''CAD'': ''Chargé(e) d''Activité Déploiement'', ''CAPEX'': ''Capital Expenditures'', ''CC'': ''Contrat Cadre'', ''CCF'': ''Clapet coupe-feu'', ''CCTG'': ''Cahier des Charges Technique Général'', ''CDC'': ''Chemin de câbles'', ''CDP'': ''Chef De Projet'', ''CF'': ''Coupe-feu'', ''CFA'': ''Courant faible'', ''CFO'': ''Courant fort'', ''CG'': ''Conseil Général'', ''CODIR'': ''Comité de Direction'', ''COMEX'': ''Comité EXécutif'', ''COPIL'': ''Comité de Pilotage'', ''COPROJ'': ''Comité de Projet'', ''COREG'': ''Comité REGional'', ''CP'': ''Contrat Particulier'', ''CPN'': ''Chef de Projet National'', ''CPO'': ''Coordinateur de Projets Opérationnels'', ''CRA'': ''Compte Rendu d''Activité '', ''CRE'': ''Commission de régulation de l''énergie'', ''CRI '': ''Compte-Rendu d''Intervention'', ''CRVT'': ''Compte Rendu de Visite Technique'', ''CSC'': ''Centre de Services Comptables'', ''CSPS'': ''Coordonnateur de sécurité et de protection de la santé'', ''CT'': ''Centre Technique'', ''CTR'': ''Cellule Temps Réel'', ''CVC'': ''Chauffage, ventilation et climatisation'', ''CVT'': ''Climatisation Ventilation'', ''DA'': ''Demande d''Achat'', ''DAB+'': ''Digital Audio Broadcasting'', ''DAR'': ''Demande d''Autorisation de Recrutement'', ''DAS'': ''Distributive Antenna System'', ''DAT'': ''Diagnostic Amiante avant Travaux'', ''DC'': ''DataCenter'', ''DCP'': ''Données à Caractère Personnel'', ''DGAC'': ''Direction Générale Aviation Civile'', ''DGC'': ''Directeur(rice) Grands Comptes'', ''DI'': ''Demande d''intervention'', ''DICT'': ''Disponibilité Intégrité Confidentialité Traçabilité'', ''DID'': ''Direction de l''Ingénierie et du Déploiement'', ''DIES'': ''Dossier d''Intervention En Sécurité'', ''DII'': ''Direction Immobilier et Infrastructures'', ''DIM'': ''Dossier d''Information Mairie'', ''DIUO'': ''Dossier d’intervention ultérieure sur l’ouvrage'', ''DJ'': ''Direction Juridique'', ''DMAIC'': ''Define Mesure Analyse Improve Control, méthode Lean'', ''DOE'': ''Dossier des Ouvrages Exécutés'', ''DOT '': ''Demande d''opération terrain'', ''DP'': ''Déclaration Préalable'', ''DPI'': ''Demande de Piéces d''Ingénierie (Interne)'', ''DPO'': ''Data Protection Officer'', ''DR'': ''Directeur régional'', ''DSI'': ''Direction du Système d''Informations'', ''DSP'': ''Délégation de service public'', ''DT'': ''Délégué Territorial '', ''DTA'': ''Dossier Technique Amiante'', ''DTOM'': ''Direction des Territoires de l''Outremer (ou Direction de l''Outremer)'', ''DTTA'': ''Duct To The Antenna ()'', ''EB'': ''Expression de Besoin'', ''EBF'': ''Expression de Besoin Finale'', ''EBI'': ''Expression de Besoin Initiale'', ''EBITDA'': ''Earnings Before Interest, Taxes, Depreciation, and Amortization'', ''ECME'': ''Equipement de Contrôle, de Mesures, et d''Essais'', ''EDP'': ''Entretien Développement Professionnel'', ''EF'': ''Etude de faisabilité'', ''EI'': ''Extinction Incendie'', ''EP'': ''Eau pluviale'', ''EPI'': ''Entretien Performance Individuelle'', ''ETP'': ''Equivalent temps plein'', ''FAE'': ''Facture A Emettre'', ''FAI'': ''Fournisseur d''Accès à Internet'', ''FAR'': ''Facture A Recevoir'', ''FAS '': ''Frais d''Accès au Service'', ''FEF'': ''Fiche d''Etude de Faisabilité'', ''FH'': ''Faisceau Hertzien'', ''FI'': ''Forfait Ingénierie'', ''FM'': ''Modulation de fréquence'', ''FMD'': ''Forfait Mobilités Durables'', ''FN'': ''Fiche Navette'', ''FO'': ''Fibre Optique'', ''FON'': ''Fibre Optique Noire'', ''FP&A'': ''Financial Planning & Analysis'', ''FTE '': ''Full Time Equivalent'', ''FTTE'': ''Fiber to The Entreprise'', ''FTTH'': ''Fiber To The Home'', ''FTTO'': ''Fiber To The Office'', ''FTV'': ''France Télévision '', ''FY'': ''Fiscal Year'', ''G&C'': ''Gare et Connexions'', ''GA'': ''Gestionnaire d’Application'', ''GC'': ''Génie Civil'', ''GE'': ''Groupe Electrogène'', ''GED'': ''Gestion Electronique de Document'', ''GEPP'': ''Gestion des Emplois et des Parcours Professionnels'', ''GES '': ''Gaz à Effet de Serre '', ''GF'': ''Groupe Froid'', ''GHz'': ''GigaHertz'', ''GIEC'': ''Groupe d''experts intergouvernemental sur l''évolution du climat'', ''GN'': ''Gendarmerie Nationale'', ''GPRS'': ''General Packet Radio Service '', ''GROWTH'': nan, ''GSM'': ''Global System for Mobile Communication'', ''GT'': ''Gestion des Temps'', ''GTB'': ''Gestion Technique du Bâtiment'', ''GTC'': ''Gestion Technique Centralisée'', ''GTI'': ''Garantie de Temps d''Intervention'', ''GTR'': ''Garantie de Temps de Rétablissement'', ''HBA'': ''Hauteur Bas d''Antenne'', ''HDS'': ''Hébergeur de Données de Santé'', ''HF'': ''Haute fréquence, de 3 à 30 MHz'', ''HJ'': ''Hommes jour'', ''HMA'': ''Hauteur Milieu d''Antenne'', ''HNO'': ''Heures Non Ouvrées'', ''HO'': ''Heures Ouvrées'', ''HSDPA '': ''High Speed Downlink Package Access'', ''HSE\\xa0'': ''Hygiène Sécurité Environnement'', ''HSPA'': ''High Speed Packet Access'', ''HT'': ''Haute Tension'', ''HZTD'': ''Hors Zone Très Dense'', ''IA'': ''Ingénieur d''Affaires'', ''IA '': ''Intelligence Artificielle '', ''IAV'': ''Ingénieur Avant Vente'', ''IBB'': ''Installation de Bout en Bout'', ''IDF'': ''Ile De France'', ''IDU '': ''Interface Data Unit'', ''IFP'': ''Immobilisation des Frais de Personnel'', ''IG'': ''Implantation Géographique'', ''IHM'': ''Interface Homme - Machine'', ''IKM'': ''Indemnité Kilométrique'', ''IM'': ''Incidents Marquants'', ''IMES'': ''Installation et Mise En Service'', ''IOT'': ''Internet of Things '', ''IP'': ''Internet Protocol'', ''IRU'': ''Indefeasible Rights of Use'', ''ISO'': ''Anglais : International Standardization Organization  ( voir OSI ) '', ''IT'': ''Information Technology'', ''ITC'': ''Ingénieur Technico Commercial'', ''KPI'': ''Key Performance Indicator'', ''LO'': ''Labor Opex'', ''LR'': ''Levée de Réserve'', ''LTE'': ''Long Term Evolution'', ''M&A'': ''merge and acquisition'', ''M2M'': ''Machine to machine'', ''MAD'': ''Mise A Disposition'', ''MBR'': ''Monthly Business Review'', ''MCO'': ''Maintien en Condition / Continuité Opérationnelle'', ''MEC'': ''Mise En Conformité'', ''MEP'': ''Mise En Production'', ''MER'': ''Modulation Error Rate'', ''MES'': ''Mise En Service'', ''MEX'': ''Mise En Exploitation'', ''MFR'': ''Monthly Financial report'', ''MI'': ''Ministère de l''Intérieur'', ''MIMO'': ''Multiple-Input Multiple-Output'', ''MJS'': ''Maîtrise Juridique des Sites'', ''MMR'': ''Meet Me Room'', ''MNO'': ''Mobile Network Operator '', ''MO'': ''Maître d''Ouvrage'', ''MOA'': ''Maîtrise d''Ouvrage'', ''MOCO'': ''Metropolitan Office Central Office'', ''MODOP'': ''Mode Opératoire'', ''MOE'': ''Maître / Maitrise d''Œuvre'', ''MPS'': ''Maintenance Préventive Systématique'', ''MUX '': ''Multiplex'', ''MVNO'': ''Mobile Virtual Network Operator'', ''MVR'': ''Maintenance vie du réseau '', ''NAO'': ''Négociation Annuelle Obligatoire'', ''NE '': ''Nord Est'', ''NLO '': ''Non Labor OPEX '', ''NO'': ''Nord Ouest'', ''NOC'': ''Network Operation Center'', ''NRA'': ''Noeud de Raccordement d''Abonnés'', ''NRO'': ''Noeud de Raccordement Optique'', ''OES '': ''Ordre Evolution de Service'', ''OF'': ''Ordre de Facturation'', ''ONF'': ''Office National des Forêts'', ''OPEX'': ''Operational Expenditures'', ''OPH'': ''Office Public de l''habitat'', ''P2P'': ''Procure To Pay'', ''PAC'': ''Pylône A Construire'', ''PAP '': ''Plan amélioration de la Performance'', ''PAR'': ''Puissance Apparente Rayonnée'', ''PBO'': ''Point de Branchement Optique '', ''PC'': ''Permis de Construire'', ''PCA'': ''Plan de continuité d''activité'', ''PCE'': ''Pôle de Compétences Energie'', ''PCI'': ''Pôle de Compétence Infrastructure'', ''PDCA'': ''Plan-Do-Check-Act'', ''PDL'': ''Point De Livraison'', ''PDM'': ''Part De Marché'', ''PDP'': ''Product Delivery Plan'', ''PDS'': ''Plan De Situation'', ''PE'': ''Projet Elémentaire'', ''PEX'': ''Pylône Existant'', ''PFA'': ''Prévision Fin d''Année'', ''PFI'': ''Participation Financière Investissement'', ''PGC'': ''Plan Général de Coordination'', ''PI'': ''Projet industrie'', ''PIC'': ''Plan d’installation de chantier'', ''PIM'': ''Produit d''inter modulation'', ''PLU'': ''Plan local d’Urbanisme'', ''PM'': ''Point de Mutualisation'', ''PMP'': ''Plan de Management de Projet'', ''PMR'': ''Private mobile radio'', ''PO'': ''Pôle Opérations'', ''POC '': ''Proof of concept'', ''POP '': ''Point of presence'', ''PP'': ''Plan de Prévention'', ''PPM'': ''Plan de Prévention Maintenance'', ''PPSPS'': ''Plan particulier de sécurité et de protection de la santé'', ''PPT'': ''Plan de Prévention Travaux'', ''PRA'': ''Plan de reprise d''activité'', ''PS'': ''Point de Service'', ''PTC'': ''Poste Travail Continu'', ''PTCD'': ''Proposition Technico-Commercial Détaillée'', ''PTI '': ''Phoenix Tower International : concurrent de TDF'', ''PVCI'': ''Procès-Verbal de Conformité d''Installation'', ''PVMAD'': ''Procès-Verbal de Mise A Disposition'', ''QCD'': ''Qualité Coût Délai'', ''QoS'': ''Quality of Service'', ''QPR'': ''Quaterly Performance Review'', ''QQOQCP'': ''Quoi Qui Où Quand Combien Pourquoi'', ''QRDM'': ''Quick Response Disturbance Management'', ''QVTC'': ''Qualité de Vie et Conditions de Travail'', ''RACI'': ''Responsable Acteur Contributeur Informé'', ''RAF'': ''Reste A Faire'', ''RAL'': ''Reichs-Ausschuß für Lieferbedingungen und gütesicherung - '', ''RAP'': ''Référentiel Acte et Projet'', ''RAS'': ''Rien A Signaler'', ''RB'': ''Responsable Budgétaire\\xa0'', ''RC'': ''Réseau Complementaire'', ''RC '': ''Responsable Commercial'', ''RCS'': ''Rétablissement de Continuité de Service'', ''RDS'': ''Radio Data System '', ''RDSSE '': ''Responsable Domaine Sécurité Santé Environnement'', ''REO'': ''Responsable d''Equipe opération'', ''REX'': ''Retour d''EXpérience'', ''RF'': ''Radio Fréquence'', ''RFI'': ''Radio France International'', ''RFQ'': ''Request For Information'', ''RFT '': ''Right First Time'', ''RGPD'': ''Règlement Général de la Protection des Données '', ''RIP'': ''Réseau d’Initiative Publique'', ''RIS '': ''Responsable Infrastructure Site'', ''RMP'': ''Reseau mobile privé'', ''RNT'': ''Radio Numérique Terrestre'', ''RP'': ''Réseau Principal'', ''RPRD '': ''Responsable de Pôle Régional Déploiement '', ''RPS'': ''Responsable de Parc de Sites'', ''RRH'': ''Responsable Ressources Humaines'', ''RRI'': ''Réseau de Radiocommunication Indépendant'', ''RRU'': ''Remote Radio Unit'', ''RSE'': ''Responsabilité Sociétale d''Entreprise'', ''RSSI'': ''Responsable de la Sécurité des Systèmes d''Information'', ''RT '': ''Référentiel technique '', ''RTC'': ''Réseau Téléphonique Commuté'', ''RUBIS'': ''Réseau de communication de la Gendarmerie Nationale'', ''RUHD'': ''Réseau Ultra Haut Débit'', ''RUO'': ''Responsable d''Unité Opérationnelle'', ''SALTO'': ''Service d''Accès aux Logiciels Techniques Opérationnels'', ''SC'': ''Supply Chain'', ''SE'': ''Sud Est'', ''SFDR'': ''Sustainable Finance Disclosure Regulation'', ''SFR'': ''Société française du radiotéléphone'', ''SI'': ''Système d''Informations'', ''SIDV'': ''Système d''Information des Ventes'', ''SIPOC'': ''Suppliers Inputs Process Outputs Customers'', ''SLA'': ''Service Level Agreement'', ''SMO'': ''Syndicat mixte ouvert'', ''SMSI'': ''Système de Management de la Sécurité d''Information'', ''SO'': ''Sud Ouest'', ''SPH'': ''Service Point Haut'', ''SPV'': ''Special Purpose Vehicle'', ''SRO'': ''Sous-Répartiteur Optique'', ''SSI'': ''Système de sécurité incendie'', ''STT'': ''Sous traitance'', ''TAI'': ''Travaux d''Adaptation d''Infrastructure'', ''TAT'': ''Télévision Analogique Terrestre'', ''TBD '': ''To be defined'', ''TBT'': ''Tres Basse Tension < 50 V'', ''TCO '': ''Total Cost Operations'', ''TCP / IP'': ''Transmission Control Protocol / Internet Protocol'', ''TD'': ''Tableau divisionnaire'', ''TDB'': ''Tableau de bord'', ''TG'': ''TéléGestion'', ''TGBT'': ''Tableau Général Basse Tension'', ''THD'': ''Très Haut Débit'', ''TI'': ''Transformateur d''Isolement'', ''TJM'': ''Taux journalier moyen'', ''TMO'': ''Technicien de Maitrise d''Opérations'', ''TNT'': ''Télévision Numérique Terrestre'', ''TO'': ''Technicien d''Opération'', ''TP'': ''Travaux programmés'', ''TRI'': ''Taux de Rentabilité Interne'', ''TS'': ''Travaux Supplémentaires'', ''TT'': ''Toit Terrasse'', ''TTC'': ''Toute Taxe Comprise'', ''TTE'': ''Temps de travail effectif'', ''TWC'': ''Towercast'', ''U2M'': ''Upgrade de module'', ''UHD'': ''Ultra Haute Définition '', ''UHF'': ''Ultra High Frequency '', ''UMTS'': ''Universal Mobile Telecommunications System'', ''VA/NVA'': ''Valeur ajoutée / Non valeur Ajoutée'', ''VAREQ'': ''Variante d''équipement'', ''VAS'': ''Visite d''Audit de Site'', ''VB'': ''Ventilation basse'', ''VDR'': ''Vie De Réseau '', ''VH'': ''Ventilation haute'', ''VHF'': ''Very High Frequency'', ''VIC'': ''Visite d''Inspection Commune'', ''VIE'': ''Visite Initiale Electrique'', ''VOB'': ''Voice of Business'', ''VOC'': ''Voice of customer'', ''VPN'': ''Virtual Private Network'', ''VRD'': ''Voiries et Réseaux Divers'', ''VRE'': ''Vérification Réglementaire Electrique'', ''VSM'': ''Value Stream Mapping'', ''VT'': ''Visite Technique'', ''WEEKLY'': nan, ''WIFI'': ''Wireless Fidelity'', ''WIP'': ''Work in progress'', ''YIELD'': nan, ''ZB'': ''Zone Blanche'', ''ZCC'': ''Zone de  Couverture Calculée'', ''ZDS'': ''Zone De Service'', ''ZM'': ''Zone Manager'', ''ZMD'': ''Zone Moins Dense'', ''ZNIEFF'': ''Zones naturelles d’intérêt écologique, faunistique et floristique'', ''ZTD'': ''Zone Très Dense'', ''CEF'': ''Comité Engagement Financier'', ''PEC'': ''Portail d''Echanges Client'', ''MIS'': ''Management Information System'', ''DGA'': ''Direction Générale de L''Armement'', ''GI'': ''Gestionnaire d''immobilisation'', ''POD'': ''Performance Optimized Datacenter'', ''ADR'': ''Analyse Du Risque'', ''CPR'': ''Chef de Projet Régional'', ''DAPT'': ''Direction de l’Amélioration des Processus Transverses''}}\n",
        "\n",
        "Tu dois te baser sur le style d'écriture des exemples ci-dessous :\n",
        "Exemple 1\n",
        "'Notre Noc radio est en cours d'analyse – nous revenons vers vous dès réception de nouvelles informations.'\n",
        "\n",
        "Exemple 2\n",
        "'Intervention de notre technicien sur site, qui a analysé les équipements de diffusion et l'antennaire : la puissance de diffusion et le RDS sont nominaux, toutefois une dégradation de l'audio est à signaler due soit à un brouillage, soit à un défaut du récepteur de retransmission. Une nouvelle intervention est planifiée afin de procéder à des mesures complémentaires et un test du récepteur.'\n",
        "\n",
        "<autres exemples suivent selon le même format>\n",
        "\n",
        "Voici le texte : '{prompt}' [/INST]</s>\"\"\"\n",
        "\n",
        "\n"
      ],
      "metadata": {
        "id": "9tfTfTTr_shu"
      },
      "execution_count": 24,
      "outputs": []
    },
    {
      "cell_type": "code",
      "source": [
        "answer = llm(mistral_prompt, temperature = 0.7,\n",
        "             repetition_penalty = 1.15,\n",
        "             max_new_tokens = 2048)\n",
        "print(answer)"
      ],
      "metadata": {
        "colab": {
          "base_uri": "https://localhost:8080/"
        },
        "id": "w95jbuTuAY_K",
        "outputId": "01f655f0-9e02-400d-8176-7ada01fe23f2"
      },
      "execution_count": null,
      "outputs": [
        {
          "metadata": {
            "tags": null
          },
          "name": "stderr",
          "output_type": "stream",
          "text": [
            "WARNING:ctransformers:Number of tokens (6717) exceeded maximum context length (2048).\n"
          ]
        }
      ]
    },
    {
      "cell_type": "markdown",
      "source": [],
      "metadata": {
        "id": "AKHfBdrH4lk8"
      }
    }
  ]
}